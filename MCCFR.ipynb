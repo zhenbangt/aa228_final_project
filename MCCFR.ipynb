{
  "nbformat": 4,
  "nbformat_minor": 0,
  "metadata": {
    "kernelspec": {
      "display_name": "Python 3",
      "language": "python",
      "name": "python3"
    },
    "language_info": {
      "codemirror_mode": {
        "name": "ipython",
        "version": 3
      },
      "file_extension": ".py",
      "mimetype": "text/x-python",
      "name": "python",
      "nbconvert_exporter": "python",
      "pygments_lexer": "ipython3",
      "version": "3.7.9"
    },
    "colab": {
      "name": "MCCFR.ipynb",
      "provenance": [],
      "collapsed_sections": [],
      "toc_visible": true,
      "include_colab_link": true
    },
    "accelerator": "GPU",
    "widgets": {
      "application/vnd.jupyter.widget-state+json": {
        "cf5fd6728f364ff3970e0a0fd97f7dbc": {
          "model_module": "@jupyter-widgets/controls",
          "model_name": "HBoxModel",
          "state": {
            "_view_name": "HBoxView",
            "_dom_classes": [],
            "_model_name": "HBoxModel",
            "_view_module": "@jupyter-widgets/controls",
            "_model_module_version": "1.5.0",
            "_view_count": null,
            "_view_module_version": "1.5.0",
            "box_style": "",
            "layout": "IPY_MODEL_ae6b206e74094d41a16329993d9c4827",
            "_model_module": "@jupyter-widgets/controls",
            "children": [
              "IPY_MODEL_1051a156b8154e7bb78aace7e07f04fe",
              "IPY_MODEL_3bfb71a7621f41dfb490be2f3cb4929c"
            ]
          }
        },
        "ae6b206e74094d41a16329993d9c4827": {
          "model_module": "@jupyter-widgets/base",
          "model_name": "LayoutModel",
          "state": {
            "_view_name": "LayoutView",
            "grid_template_rows": null,
            "right": null,
            "justify_content": null,
            "_view_module": "@jupyter-widgets/base",
            "overflow": null,
            "_model_module_version": "1.2.0",
            "_view_count": null,
            "flex_flow": null,
            "width": null,
            "min_width": null,
            "border": null,
            "align_items": null,
            "bottom": null,
            "_model_module": "@jupyter-widgets/base",
            "top": null,
            "grid_column": null,
            "overflow_y": null,
            "overflow_x": null,
            "grid_auto_flow": null,
            "grid_area": null,
            "grid_template_columns": null,
            "flex": null,
            "_model_name": "LayoutModel",
            "justify_items": null,
            "grid_row": null,
            "max_height": null,
            "align_content": null,
            "visibility": null,
            "align_self": null,
            "height": null,
            "min_height": null,
            "padding": null,
            "grid_auto_rows": null,
            "grid_gap": null,
            "max_width": null,
            "order": null,
            "_view_module_version": "1.2.0",
            "grid_template_areas": null,
            "object_position": null,
            "object_fit": null,
            "grid_auto_columns": null,
            "margin": null,
            "display": null,
            "left": null
          }
        },
        "1051a156b8154e7bb78aace7e07f04fe": {
          "model_module": "@jupyter-widgets/controls",
          "model_name": "FloatProgressModel",
          "state": {
            "_view_name": "ProgressView",
            "style": "IPY_MODEL_cfa06522b5574edb8dba15e1959a1d26",
            "_dom_classes": [],
            "description": "100%",
            "_model_name": "FloatProgressModel",
            "bar_style": "success",
            "max": 25000,
            "_view_module": "@jupyter-widgets/controls",
            "_model_module_version": "1.5.0",
            "value": 25000,
            "_view_count": null,
            "_view_module_version": "1.5.0",
            "orientation": "horizontal",
            "min": 0,
            "description_tooltip": null,
            "_model_module": "@jupyter-widgets/controls",
            "layout": "IPY_MODEL_2a0430f1a66c4cd182a7c0ae33ba97d9"
          }
        },
        "3bfb71a7621f41dfb490be2f3cb4929c": {
          "model_module": "@jupyter-widgets/controls",
          "model_name": "HTMLModel",
          "state": {
            "_view_name": "HTMLView",
            "style": "IPY_MODEL_8f60b2170acb4381938a455d6c862e2b",
            "_dom_classes": [],
            "description": "",
            "_model_name": "HTMLModel",
            "placeholder": "​",
            "_view_module": "@jupyter-widgets/controls",
            "_model_module_version": "1.5.0",
            "value": " 25000/25000 [20:36&lt;00:00, 20.23it/s]",
            "_view_count": null,
            "_view_module_version": "1.5.0",
            "description_tooltip": null,
            "_model_module": "@jupyter-widgets/controls",
            "layout": "IPY_MODEL_2692c9d6e199475ebc8a67c66c78fbb8"
          }
        },
        "cfa06522b5574edb8dba15e1959a1d26": {
          "model_module": "@jupyter-widgets/controls",
          "model_name": "ProgressStyleModel",
          "state": {
            "_view_name": "StyleView",
            "_model_name": "ProgressStyleModel",
            "description_width": "initial",
            "_view_module": "@jupyter-widgets/base",
            "_model_module_version": "1.5.0",
            "_view_count": null,
            "_view_module_version": "1.2.0",
            "bar_color": null,
            "_model_module": "@jupyter-widgets/controls"
          }
        },
        "2a0430f1a66c4cd182a7c0ae33ba97d9": {
          "model_module": "@jupyter-widgets/base",
          "model_name": "LayoutModel",
          "state": {
            "_view_name": "LayoutView",
            "grid_template_rows": null,
            "right": null,
            "justify_content": null,
            "_view_module": "@jupyter-widgets/base",
            "overflow": null,
            "_model_module_version": "1.2.0",
            "_view_count": null,
            "flex_flow": null,
            "width": null,
            "min_width": null,
            "border": null,
            "align_items": null,
            "bottom": null,
            "_model_module": "@jupyter-widgets/base",
            "top": null,
            "grid_column": null,
            "overflow_y": null,
            "overflow_x": null,
            "grid_auto_flow": null,
            "grid_area": null,
            "grid_template_columns": null,
            "flex": null,
            "_model_name": "LayoutModel",
            "justify_items": null,
            "grid_row": null,
            "max_height": null,
            "align_content": null,
            "visibility": null,
            "align_self": null,
            "height": null,
            "min_height": null,
            "padding": null,
            "grid_auto_rows": null,
            "grid_gap": null,
            "max_width": null,
            "order": null,
            "_view_module_version": "1.2.0",
            "grid_template_areas": null,
            "object_position": null,
            "object_fit": null,
            "grid_auto_columns": null,
            "margin": null,
            "display": null,
            "left": null
          }
        },
        "8f60b2170acb4381938a455d6c862e2b": {
          "model_module": "@jupyter-widgets/controls",
          "model_name": "DescriptionStyleModel",
          "state": {
            "_view_name": "StyleView",
            "_model_name": "DescriptionStyleModel",
            "description_width": "",
            "_view_module": "@jupyter-widgets/base",
            "_model_module_version": "1.5.0",
            "_view_count": null,
            "_view_module_version": "1.2.0",
            "_model_module": "@jupyter-widgets/controls"
          }
        },
        "2692c9d6e199475ebc8a67c66c78fbb8": {
          "model_module": "@jupyter-widgets/base",
          "model_name": "LayoutModel",
          "state": {
            "_view_name": "LayoutView",
            "grid_template_rows": null,
            "right": null,
            "justify_content": null,
            "_view_module": "@jupyter-widgets/base",
            "overflow": null,
            "_model_module_version": "1.2.0",
            "_view_count": null,
            "flex_flow": null,
            "width": null,
            "min_width": null,
            "border": null,
            "align_items": null,
            "bottom": null,
            "_model_module": "@jupyter-widgets/base",
            "top": null,
            "grid_column": null,
            "overflow_y": null,
            "overflow_x": null,
            "grid_auto_flow": null,
            "grid_area": null,
            "grid_template_columns": null,
            "flex": null,
            "_model_name": "LayoutModel",
            "justify_items": null,
            "grid_row": null,
            "max_height": null,
            "align_content": null,
            "visibility": null,
            "align_self": null,
            "height": null,
            "min_height": null,
            "padding": null,
            "grid_auto_rows": null,
            "grid_gap": null,
            "max_width": null,
            "order": null,
            "_view_module_version": "1.2.0",
            "grid_template_areas": null,
            "object_position": null,
            "object_fit": null,
            "grid_auto_columns": null,
            "margin": null,
            "display": null,
            "left": null
          }
        }
      }
    }
  },
  "cells": [
    {
      "cell_type": "markdown",
      "metadata": {
        "id": "view-in-github",
        "colab_type": "text"
      },
      "source": [
        "<a href=\"https://colab.research.google.com/github/zhenbangt/aa228_final_project/blob/main/MCCFR.ipynb\" target=\"_parent\"><img src=\"https://colab.research.google.com/assets/colab-badge.svg\" alt=\"Open In Colab\"/></a>"
      ]
    },
    {
      "cell_type": "markdown",
      "metadata": {
        "id": "9DqVVm7cFDQh"
      },
      "source": [
        "# Solving Poker using MCCFR"
      ]
    },
    {
      "cell_type": "code",
      "metadata": {
        "id": "oOwrJYpkFw-z",
        "outputId": "3fd24117-7e58-4e20-8b65-fe9f31189a8f",
        "colab": {
          "base_uri": "https://localhost:8080/"
        }
      },
      "source": [
        "!ls"
      ],
      "execution_count": 1,
      "outputs": [
        {
          "output_type": "stream",
          "text": [
            "env.py\tsample_data\n"
          ],
          "name": "stdout"
        }
      ]
    },
    {
      "cell_type": "code",
      "metadata": {
        "id": "PUr5gQovFDQh"
      },
      "source": [
        "%load_ext autoreload\n",
        "%autoreload 2"
      ],
      "execution_count": 2,
      "outputs": []
    },
    {
      "cell_type": "code",
      "metadata": {
        "id": "L0FcxH2fF6Tv",
        "outputId": "fd8a05ee-a8ae-4249-c8e5-fc8a824a71eb",
        "colab": {
          "base_uri": "https://localhost:8080/"
        }
      },
      "source": [
        "!pip install -q rlcard\n",
        "!pip install -q rlcard[tensorflow]\n",
        "!pip install -q tqdm"
      ],
      "execution_count": null,
      "outputs": [
        {
          "output_type": "stream",
          "text": [
            "\u001b[K     |████████████████████████████████| 6.7MB 4.2MB/s \n",
            "\u001b[?25h  Building wheel for rlcard (setup.py) ... \u001b[?25l\u001b[?25hdone\n",
            "\u001b[K     |████████████████████████████████| 110.5MB 36kB/s \n",
            "\u001b[K     |████████████████████████████████| 512kB 54.2MB/s \n",
            "\u001b[K     |████████████████████████████████| 3.8MB 55.8MB/s \n",
            "\u001b[K     |████████████████████████████████| 51kB 7.8MB/s \n",
            "\u001b[?25h  Building wheel for gast (setup.py) ... \u001b[?25l\u001b[?25hdone\n",
            "\u001b[31mERROR: tensorflow-probability 0.11.0 has requirement gast>=0.3.2, but you'll have gast 0.2.2 which is incompatible.\u001b[0m\n"
          ],
          "name": "stdout"
        }
      ]
    },
    {
      "cell_type": "code",
      "metadata": {
        "jupyter": {
          "outputs_hidden": true
        },
        "id": "Sj4k3yfuFDQk"
      },
      "source": [
        "import math\n",
        "import os\n",
        "import pickle\n",
        "import random\n",
        "from copy import copy, deepcopy\n",
        "\n",
        "import numpy as np\n",
        "import rlcard\n",
        "from pprint import pprint\n",
        "from rlcard import models\n",
        "from rlcard.agents import RandomAgent\n",
        "from rlcard.agents.best_response_agent import BRAgent\n",
        "from rlcard.core import Card\n",
        "from rlcard.utils import tournament\n",
        "from tqdm.notebook import tqdm, trange\n",
        "\n",
        "from env import LeducholdemEnv"
      ],
      "execution_count": null,
      "outputs": []
    },
    {
      "cell_type": "code",
      "metadata": {
        "id": "r_GSYHYCFDQn"
      },
      "source": [
        "HANDS = [\"SJ\", \"SQ\", \"SK\", \"HJ\", \"HQ\", \"HK\"]\n",
        "HAND2IDX = {hand: i for i, hand in enumerate(HANDS)}\n",
        "\n",
        "\n",
        "def get_payoff(env, hand, our_id):\n",
        "    orig_hand = copy(env.game.players[1 - our_id].hand)\n",
        "    env.game.players[1 - our_id].hand = Card(suit=hand[0], rank=hand[1])\n",
        "    payoffs = env.game.get_payoffs()\n",
        "    env.game.players[1 - our_id].hand = orig_hand\n",
        "    return payoffs[our_id]\n",
        "\n",
        "\n",
        "def best_response_value(env, agent, our_id, num_sims, reach_probs):\n",
        "    if env.is_over():\n",
        "        # Fix reach probabilities by removing impossible entries,\n",
        "        # in which our card is the same as the opponent's or the\n",
        "        # public one.\n",
        "        info = env.get_perfect_information()\n",
        "        our_hand = info[\"hand_cards\"][our_id]\n",
        "        our_hand_idx = HAND2IDX[our_hand]\n",
        "        reach_probs[our_hand_idx] = 0.0\n",
        "        ri = np.array(reach_probs)\n",
        "        if info[\"public_card\"]:\n",
        "            public_card = info[\"public_card\"]\n",
        "            public_card_idx = HAND2IDX[public_card]\n",
        "            reach_probs[public_card_idx] = 0.0\n",
        "\n",
        "        if np.sum(reach_probs) == 0:\n",
        "            return 0.0\n",
        "        \n",
        "        reach_probs /= np.sum(reach_probs)\n",
        "        \n",
        "        # Compute expected value.\n",
        "        ev = 0.0\n",
        "        for hand, reach_prob in zip(HANDS, reach_probs):\n",
        "            ev += reach_prob * get_payoff(env, hand, our_id)\n",
        "        return ev\n",
        "\n",
        "    curr_player = env.get_player_id()\n",
        "    state = env.get_state(curr_player)\n",
        "    legal_actions = state[\"legal_actions\"]\n",
        "\n",
        "    if our_id == curr_player:\n",
        "        values = np.zeros(env.action_num)\n",
        "        for a in legal_actions:\n",
        "            # First, we check if this action runs into a chance node.\n",
        "            round_before = env.get_perfect_information()[\"current_round\"]\n",
        "            env.step(a)\n",
        "            round_after = env.get_perfect_information()[\"current_round\"]\n",
        "            is_chance_node = round_before != round_after and round_after == 1\n",
        "            env.step_back()\n",
        "\n",
        "            # Then, we compute the expected value of our action.\n",
        "            action_evs = []\n",
        "            for _ in range(num_sims if is_chance_node else 1):\n",
        "                env.step(a)\n",
        "                v = best_response_value(env, agent, our_id, num_sims, reach_probs)\n",
        "                action_evs.append(v)\n",
        "                env.step_back()\n",
        "            values[a] = np.mean(action_evs)\n",
        "            return np.max(values)\n",
        "    else:\n",
        "        # Compute probability of taking action with each holding in the\n",
        "        # opponent's infoset.\n",
        "        probs = np.zeros((6, 4))\n",
        "        for i, hand in enumerate(HANDS):\n",
        "            alt_state = deepcopy(state)\n",
        "            alt_state[\"raw_obs\"][\"hand\"] = hand\n",
        "            _, prob = agent.eval_step(alt_state)\n",
        "            probs[i] = prob\n",
        "\n",
        "        # Recursively compute expected value of state for player with our_id.\n",
        "        values = np.zeros(env.action_num)\n",
        "        for a in legal_actions:\n",
        "            # First, we check if this action runs into a chance node.\n",
        "            round_before = env.get_perfect_information()[\"current_round\"]\n",
        "            env.step(a)\n",
        "            round_after = env.get_perfect_information()[\"current_round\"]\n",
        "            is_chance_node = round_before != round_after and round_after == 1\n",
        "            env.step_back()\n",
        "\n",
        "            # Then, we compute the expected value of our action.\n",
        "            action_evs = []\n",
        "            for _ in range(num_sims if is_chance_node else 1):\n",
        "                env.step(a)\n",
        "                v = best_response_value(env, agent, our_id, num_sims, (probs.T)[a] * reach_probs)\n",
        "                action_evs.append(v)\n",
        "                env.step_back()\n",
        "            values[a] = np.mean(action_evs)\n",
        "        _, p = agent.eval_step(state)\n",
        "        ev = sum(p[a] * values[a] for a in legal_actions)\n",
        "        return ev\n",
        "        \n",
        "\n",
        "def exploitability(env, agent, our_id=0, num_sims=100):\n",
        "    values = []\n",
        "    for _ in range(num_sims):\n",
        "        env.reset()\n",
        "        v = best_response_value(env, agent, our_id, num_sims, reach_probs=np.ones(6))\n",
        "        values.append(v)\n",
        "    return values"
      ],
      "execution_count": null,
      "outputs": []
    },
    {
      "cell_type": "code",
      "metadata": {
        "id": "rIb6643lFDQr"
      },
      "source": [
        "def make_infoset_string(state):\n",
        "    private_card = state[\"raw_obs\"][\"hand\"]\n",
        "    public_card = state[\"raw_obs\"][\"public_card\"] or \"Unknown\"\n",
        "    action_history = \":\".join([record[1] for record in state[\"action_record\"]])\n",
        "    return f\"{private_card}|{public_card}|{action_history}\""
      ],
      "execution_count": null,
      "outputs": []
    },
    {
      "cell_type": "code",
      "metadata": {
        "id": "1jA1wnYRFDQt"
      },
      "source": [
        "class MCCFR_ES_Agent:\n",
        "    def __init__(self, env):\n",
        "        self.env = env\n",
        "        self.regrets = {}\n",
        "        self.avg_strategy = {}\n",
        "        self.strategy = {}\n",
        "        self.use_raw = False\n",
        "        self.iteration = 0\n",
        "        self.next_traverser = 0\n",
        "    \n",
        "    def regret_matching(self, infoset, legal_actions):\n",
        "        if infoset not in self.regrets or np.all(self.regrets[infoset] <= 0):\n",
        "            action_probs = np.zeros(self.env.action_num)\n",
        "            action_probs[legal_actions] = 1.0 / len(legal_actions)\n",
        "            return action_probs\n",
        "        pos_regrets = np.maximum(self.regrets[infoset], 0)\n",
        "        return pos_regrets / np.sum(pos_regrets)\n",
        "\n",
        "    def train_step(self):\n",
        "        self.iteration += 1\n",
        "        self.env.reset()\n",
        "        self.walk_tree()\n",
        "        self.next_traverser = 1 - self.next_traverser\n",
        "        for infoset in self.avg_strategy:\n",
        "            self.strategy[infoset] = self.avg_strategy[infoset] / np.sum(self.avg_strategy[infoset])\n",
        "        for infoset in self.regrets:\n",
        "            self.regrets[infoset] = np.maximum(self.regrets[infoset], 0)\n",
        "    \n",
        "    def walk_tree(self):\n",
        "        player = self.next_traverser\n",
        "        if self.env.is_over():\n",
        "            payoffs = self.env.get_payoffs()\n",
        "            return payoffs[player]\n",
        "\n",
        "        # Get state information.\n",
        "        curr_player = self.env.get_player_id()\n",
        "        state = self.env.get_state(curr_player)\n",
        "        infoset = make_infoset_string(state)\n",
        "        legal_actions = state[\"legal_actions\"]\n",
        "\n",
        "        # Compute action probabilities proportional to positive regrets.\n",
        "        action_probs = self.regret_matching(infoset, legal_actions)\n",
        "\n",
        "        assert np.isclose(np.sum(action_probs), 1.0), (\n",
        "            f\"Sum of action probs must be approx. 1 but is {np.sum(action_probs)}. \"\n",
        "            f\"Regrets: {self.regrets[infoset]}.\"\n",
        "        )\n",
        "        illegal_actions = ~np.in1d(range(self.env.action_num), legal_actions)\n",
        "        assert np.all(action_probs[illegal_actions] == 0), (\n",
        "            f\"Probability of illegal actions must be 0. \"\n",
        "            f\"Legal actions: {legal_actions}. \"\n",
        "            f\"Action probs: {action_probs}.\"\n",
        "        )\n",
        "\n",
        "      \n",
        "        if curr_player == player:\n",
        "            if infoset not in self.regrets:\n",
        "                self.regrets[infoset] = np.zeros(self.env.action_num)\n",
        "\n",
        "            # Compute action values.\n",
        "            action_values = np.zeros(self.env.action_num)\n",
        "            for a in legal_actions:\n",
        "                self.env.step(a)\n",
        "                action_values[a] = self.walk_tree()\n",
        "                self.env.step_back()\n",
        "            expected_values = np.dot(action_values, action_probs)\n",
        "            # Update regrets.\n",
        "            for a in legal_actions:\n",
        "                self.regrets[infoset][a] += action_values[a] - expected_values\n",
        "\n",
        "            return expected_values\n",
        "        else:\n",
        "            # Sample random action.\n",
        "            action = np.random.choice(range(self.env.action_num), p=action_probs)\n",
        "            if infoset not in self.avg_strategy:\n",
        "                self.avg_strategy[infoset] = np.zeros(env.action_num)\n",
        "\n",
        "            # Update average strategy.\n",
        "            self.avg_strategy[infoset][action] += self.iteration\n",
        "\n",
        "            # Recurse.\n",
        "            self.env.step(action)\n",
        "            value = self.walk_tree()\n",
        "            self.env.step_back()\n",
        "            return value\n",
        "\n",
        "    def eval_step(self, state):\n",
        "        infoset = make_infoset_string(state)\n",
        "        if infoset not in self.strategy:\n",
        "            legal_actions = state[\"legal_actions\"]\n",
        "            action_probs = np.zeros(env.action_num)\n",
        "            action_probs[legal_actions] = 1.0\n",
        "            action_probs /= len(legal_actions)\n",
        "        else:\n",
        "            action_probs = self.strategy[infoset]\n",
        "        action = np.random.choice(range(self.env.action_num), p=action_probs)\n",
        "        return action, action_probs"
      ],
      "execution_count": null,
      "outputs": []
    },
    {
      "cell_type": "code",
      "metadata": {
        "scrolled": true,
        "id": "VFKq1zeSFDQu",
        "outputId": "cd46d72b-6203-4b6f-8674-8ae81fbf1cf9",
        "colab": {
          "base_uri": "https://localhost:8080/",
          "height": 512,
          "referenced_widgets": [
            "cf5fd6728f364ff3970e0a0fd97f7dbc",
            "ae6b206e74094d41a16329993d9c4827",
            "1051a156b8154e7bb78aace7e07f04fe",
            "3bfb71a7621f41dfb490be2f3cb4929c",
            "cfa06522b5574edb8dba15e1959a1d26",
            "2a0430f1a66c4cd182a7c0ae33ba97d9",
            "8f60b2170acb4381938a455d6c862e2b",
            "2692c9d6e199475ebc8a67c66c78fbb8"
          ]
        }
      },
      "source": [
        "NUM_EPOCHS = 35000\n",
        "EVAL_INTERVAL = 1000\n",
        "EVAL_ITERS = 10000\n",
        "SAVE_DIR = \"./agents\"\n",
        "SAVE_FILE = \"mccfr_model.pkl\"\n",
        "RESULTS_DIR = './results/'\n",
        "if not os.path.isdir(RESULTS_DIR):\n",
        "    os.mkdir(RESULTS_DIR)\n",
        "\n",
        "SAVE_PATH = os.path.join(SAVE_DIR, SAVE_FILE)\n",
        "\n",
        "os.makedirs(SAVE_DIR, exist_ok=True)\n",
        "\n",
        "env = LeducholdemEnv(config={\"allow_step_back\": True, \"allow_raw_data\": True, \"record_action\": True})\n",
        "eval_env_1 = LeducholdemEnv(config={\"allow_step_back\": True, \"allow_raw_data\": True, \"record_action\": True})\n",
        "eval_env_2 = LeducholdemEnv(config={\"allow_step_back\": False, \"allow_raw_data\": True, \"record_action\": True})\n",
        "eval_env_3 = LeducholdemEnv(config={\"allow_step_back\": False, \"allow_raw_data\": True, \"record_action\": True})\n",
        "eval_env_4 = LeducholdemEnv(config={\"allow_step_back\": False, \"allow_raw_data\": True, \"record_action\": True})\n",
        "\n",
        "agent = MCCFR_ES_Agent(env)\n",
        "random_agent = RandomAgent(4)\n",
        "nfsp_agent = models.load(\"leduc-holdem-nfsp\").agents[0]\n",
        "cfr_agent = models.load(\"leduc-holdem-cfr\").agents[0]\n",
        "\n",
        "eval_env_2.set_agents([agent, random_agent])\n",
        "eval_env_3.set_agents([agent, nfsp_agent])\n",
        "eval_env_4.set_agents([agent, cfr_agent])\n",
        "\n",
        "random_rewards = []\n",
        "nfsp_rewards = []\n",
        "cfr_rewards = []\n",
        "history = []\n",
        "for epoch in trange(0, NUM_EPOCHS+1):\n",
        "    agent.train_step()\n",
        "    if epoch % EVAL_INTERVAL == 0:\n",
        "        expl = exploitability(eval_env_1, agent, our_id=0, num_sims=50)\n",
        "\n",
        "        vs_random = tournament(eval_env_2, EVAL_ITERS)[0]\n",
        "        vs_nfsp = tournament(eval_env_3, EVAL_ITERS)[0]\n",
        "        vs_cfr = tournament(eval_env_4, EVAL_ITERS)[0]\n",
        "        \n",
        "        random_rewards.append(vs_random)\n",
        "        nfsp_rewards.append(nfsp_rewards)\n",
        "        cfr_rewards.append(vs_cfr)\n",
        "        history.append((vs_random, vs_nfsp, vs_cfr, np.mean(expl), np.std(expl)))\n",
        "        np.save(RESULTS_DIR + 'mccfr', history)\n",
        "        print(f\"Epoch: {epoch} \\t vs random: {vs_random} \\t vs nfsp: {vs_nfsp} \\t vs cfr: {vs_cfr} \\t exp: {np.mean(expl)} +- {np.std(expl)}\")\n",
        "        pickle.dump(agent, open(SAVE_PATH, \"wb\"))"
      ],
      "execution_count": null,
      "outputs": [
        {
          "output_type": "stream",
          "text": [
            "INFO:tensorflow:Restoring parameters from /usr/local/lib/python3.6/dist-packages/rlcard/models/pretrained/leduc_holdem_nfsp/model\n"
          ],
          "name": "stdout"
        },
        {
          "output_type": "display_data",
          "data": {
            "application/vnd.jupyter.widget-view+json": {
              "model_id": "cf5fd6728f364ff3970e0a0fd97f7dbc",
              "version_minor": 0,
              "version_major": 2
            },
            "text/plain": [
              "HBox(children=(FloatProgress(value=0.0, max=25000.0), HTML(value='')))"
            ]
          },
          "metadata": {
            "tags": []
          }
        },
        {
          "output_type": "stream",
          "text": [
            "Epoch: 0 \t vs random: 0.01195 \t vs nfsp: -0.8748 \t vs cfr: -0.7759 \t exp: 1.2216679012345677 +- 0.21333394650474866\n",
            "Epoch: 1000 \t vs random: 0.5881 \t vs nfsp: -0.10165 \t vs cfr: -0.41615 \t exp: 1.1506009668141934 +- 0.3611775898547118\n",
            "Epoch: 2000 \t vs random: 0.6842 \t vs nfsp: 0.1271 \t vs cfr: -0.28525 \t exp: 1.1076764305492546 +- 0.3543453322939857\n",
            "Epoch: 3000 \t vs random: 0.69735 \t vs nfsp: 0.1504 \t vs cfr: -0.1725 \t exp: 1.0393754922170015 +- 0.35909877146524627\n",
            "Epoch: 4000 \t vs random: 0.78345 \t vs nfsp: 0.21925 \t vs cfr: -0.2099 \t exp: 1.0564757403163354 +- 0.3234431354470165\n",
            "Epoch: 5000 \t vs random: 0.7483 \t vs nfsp: 0.26 \t vs cfr: -0.1596 \t exp: 1.0865005272619859 +- 0.32322176162017624\n",
            "Epoch: 6000 \t vs random: 0.76945 \t vs nfsp: 0.28545 \t vs cfr: -0.08755 \t exp: 1.062342201789376 +- 0.33477432365607596\n",
            "Epoch: 7000 \t vs random: 0.75785 \t vs nfsp: 0.28125 \t vs cfr: -0.06095 \t exp: 1.0369195959797781 +- 0.38577921778705687\n",
            "Epoch: 8000 \t vs random: 0.7872 \t vs nfsp: 0.34095 \t vs cfr: -0.03345 \t exp: 1.0807951120828783 +- 0.2872778201925937\n",
            "Epoch: 9000 \t vs random: 0.77065 \t vs nfsp: 0.32215 \t vs cfr: -0.0163 \t exp: 1.0211863976900988 +- 0.30250022443466074\n",
            "Epoch: 10000 \t vs random: 0.7666 \t vs nfsp: 0.30705 \t vs cfr: 0.0376 \t exp: 1.0767737631922143 +- 0.32200298493492097\n",
            "Epoch: 11000 \t vs random: 0.8149 \t vs nfsp: 0.3857 \t vs cfr: 0.0132 \t exp: 0.9305069438306 +- 0.3053488544960854\n",
            "Epoch: 12000 \t vs random: 0.7824 \t vs nfsp: 0.3877 \t vs cfr: -0.0162 \t exp: 0.9700434977767911 +- 0.28213391504672897\n",
            "Epoch: 13000 \t vs random: 0.7569 \t vs nfsp: 0.3405 \t vs cfr: 0.0442 \t exp: 0.9476346125943351 +- 0.3024776555100301\n",
            "Epoch: 14000 \t vs random: 0.7667 \t vs nfsp: 0.33995 \t vs cfr: 0.00875 \t exp: 0.9860149193954041 +- 0.2752084018947076\n",
            "Epoch: 15000 \t vs random: 0.8117 \t vs nfsp: 0.3621 \t vs cfr: 0.0184 \t exp: 0.942170030161558 +- 0.32804044382081815\n",
            "Epoch: 16000 \t vs random: 0.83645 \t vs nfsp: 0.43895 \t vs cfr: 0.0215 \t exp: 0.9220956927621765 +- 0.3395864142676049\n",
            "Epoch: 17000 \t vs random: 0.8131 \t vs nfsp: 0.4389 \t vs cfr: -0.00515 \t exp: 1.0335996811258539 +- 0.3680812014648501\n",
            "Epoch: 18000 \t vs random: 0.8074 \t vs nfsp: 0.4029 \t vs cfr: 0.0357 \t exp: 1.014816168167056 +- 0.3620903560007188\n",
            "Epoch: 19000 \t vs random: 0.7875 \t vs nfsp: 0.35805 \t vs cfr: 0.0234 \t exp: 0.9504349916881152 +- 0.325221885480614\n",
            "Epoch: 20000 \t vs random: 0.8232 \t vs nfsp: 0.41275 \t vs cfr: 0.03625 \t exp: 0.968560222077874 +- 0.37284313791765616\n",
            "Epoch: 21000 \t vs random: 0.7962 \t vs nfsp: 0.46755 \t vs cfr: 0.04475 \t exp: 0.963220586028231 +- 0.3545773587553347\n",
            "Epoch: 22000 \t vs random: 0.80605 \t vs nfsp: 0.4298 \t vs cfr: 0.08405 \t exp: 1.0288771803550194 +- 0.34659011419722763\n",
            "Epoch: 23000 \t vs random: 0.8185 \t vs nfsp: 0.3986 \t vs cfr: 0.06885 \t exp: 0.9454466599774792 +- 0.3299493997851636\n",
            "Epoch: 24000 \t vs random: 0.82195 \t vs nfsp: 0.38415 \t vs cfr: 0.03765 \t exp: 0.989496341426891 +- 0.32965501675824044\n",
            "\n"
          ],
          "name": "stdout"
        }
      ]
    },
    {
      "cell_type": "code",
      "metadata": {
        "id": "ZnK6rRedvfNt",
        "outputId": "ef86c185-d1f2-43cb-b75c-48a2ef3b1f9f",
        "colab": {
          "base_uri": "https://localhost:8080/",
          "height": 86
        }
      },
      "source": [
        "from google.colab import files\n",
        "!zip -r /content/agents.zip /content/agents\n",
        "!zip -r /content/results.zip /content/results\n",
        "files.download(\"/content/agents.zip\")\n",
        "files.download(\"/content/results.zip\")"
      ],
      "execution_count": null,
      "outputs": [
        {
          "output_type": "stream",
          "text": [
            "  adding: content/agents/ (stored 0%)\n",
            "  adding: content/agents/mccfr_model.pkl (deflated 66%)\n",
            "  adding: content/results/ (stored 0%)\n",
            "  adding: content/results/mccfr.npy (deflated 8%)\n"
          ],
          "name": "stdout"
        },
        {
          "output_type": "display_data",
          "data": {
            "application/javascript": [
              "\n",
              "    async function download(id, filename, size) {\n",
              "      if (!google.colab.kernel.accessAllowed) {\n",
              "        return;\n",
              "      }\n",
              "      const div = document.createElement('div');\n",
              "      const label = document.createElement('label');\n",
              "      label.textContent = `Downloading \"${filename}\": `;\n",
              "      div.appendChild(label);\n",
              "      const progress = document.createElement('progress');\n",
              "      progress.max = size;\n",
              "      div.appendChild(progress);\n",
              "      document.body.appendChild(div);\n",
              "\n",
              "      const buffers = [];\n",
              "      let downloaded = 0;\n",
              "\n",
              "      const channel = await google.colab.kernel.comms.open(id);\n",
              "      // Send a message to notify the kernel that we're ready.\n",
              "      channel.send({})\n",
              "\n",
              "      for await (const message of channel.messages) {\n",
              "        // Send a message to notify the kernel that we're ready.\n",
              "        channel.send({})\n",
              "        if (message.buffers) {\n",
              "          for (const buffer of message.buffers) {\n",
              "            buffers.push(buffer);\n",
              "            downloaded += buffer.byteLength;\n",
              "            progress.value = downloaded;\n",
              "          }\n",
              "        }\n",
              "      }\n",
              "      const blob = new Blob(buffers, {type: 'application/binary'});\n",
              "      const a = document.createElement('a');\n",
              "      a.href = window.URL.createObjectURL(blob);\n",
              "      a.download = filename;\n",
              "      div.appendChild(a);\n",
              "      a.click();\n",
              "      div.remove();\n",
              "    }\n",
              "  "
            ],
            "text/plain": [
              "<IPython.core.display.Javascript object>"
            ]
          },
          "metadata": {
            "tags": []
          }
        },
        {
          "output_type": "display_data",
          "data": {
            "application/javascript": [
              "download(\"download_d3bda46f-660f-4d66-9efd-cf69f4033400\", \"agents.zip\", 109206)"
            ],
            "text/plain": [
              "<IPython.core.display.Javascript object>"
            ]
          },
          "metadata": {
            "tags": []
          }
        },
        {
          "output_type": "display_data",
          "data": {
            "application/javascript": [
              "\n",
              "    async function download(id, filename, size) {\n",
              "      if (!google.colab.kernel.accessAllowed) {\n",
              "        return;\n",
              "      }\n",
              "      const div = document.createElement('div');\n",
              "      const label = document.createElement('label');\n",
              "      label.textContent = `Downloading \"${filename}\": `;\n",
              "      div.appendChild(label);\n",
              "      const progress = document.createElement('progress');\n",
              "      progress.max = size;\n",
              "      div.appendChild(progress);\n",
              "      document.body.appendChild(div);\n",
              "\n",
              "      const buffers = [];\n",
              "      let downloaded = 0;\n",
              "\n",
              "      const channel = await google.colab.kernel.comms.open(id);\n",
              "      // Send a message to notify the kernel that we're ready.\n",
              "      channel.send({})\n",
              "\n",
              "      for await (const message of channel.messages) {\n",
              "        // Send a message to notify the kernel that we're ready.\n",
              "        channel.send({})\n",
              "        if (message.buffers) {\n",
              "          for (const buffer of message.buffers) {\n",
              "            buffers.push(buffer);\n",
              "            downloaded += buffer.byteLength;\n",
              "            progress.value = downloaded;\n",
              "          }\n",
              "        }\n",
              "      }\n",
              "      const blob = new Blob(buffers, {type: 'application/binary'});\n",
              "      const a = document.createElement('a');\n",
              "      a.href = window.URL.createObjectURL(blob);\n",
              "      a.download = filename;\n",
              "      div.appendChild(a);\n",
              "      a.click();\n",
              "      div.remove();\n",
              "    }\n",
              "  "
            ],
            "text/plain": [
              "<IPython.core.display.Javascript object>"
            ]
          },
          "metadata": {
            "tags": []
          }
        },
        {
          "output_type": "display_data",
          "data": {
            "application/javascript": [
              "download(\"download_59bf1fd8-7370-49b0-9e3b-aee918cdce41\", \"results.zip\", 1397)"
            ],
            "text/plain": [
              "<IPython.core.display.Javascript object>"
            ]
          },
          "metadata": {
            "tags": []
          }
        }
      ]
    },
    {
      "cell_type": "code",
      "metadata": {
        "id": "OIknPKKivmdn"
      },
      "source": [
        ""
      ],
      "execution_count": null,
      "outputs": []
    },
    {
      "cell_type": "code",
      "metadata": {
        "id": "ucLnVdSQvmf4"
      },
      "source": [
        ""
      ],
      "execution_count": null,
      "outputs": []
    },
    {
      "cell_type": "code",
      "metadata": {
        "id": "jgqyuogWvmiQ"
      },
      "source": [
        ""
      ],
      "execution_count": null,
      "outputs": []
    },
    {
      "cell_type": "code",
      "metadata": {
        "id": "ogJAwVF5vmkg"
      },
      "source": [
        ""
      ],
      "execution_count": null,
      "outputs": []
    },
    {
      "cell_type": "code",
      "metadata": {
        "id": "L7PmpuTzvmmr"
      },
      "source": [
        ""
      ],
      "execution_count": null,
      "outputs": []
    },
    {
      "cell_type": "code",
      "metadata": {
        "id": "PTd9Wepavmos"
      },
      "source": [
        ""
      ],
      "execution_count": null,
      "outputs": []
    },
    {
      "cell_type": "code",
      "metadata": {
        "id": "xtZGAdYzFDQx",
        "outputId": "b895ae1a-50db-43ef-e0c6-c97ef5f72d9b"
      },
      "source": [
        "import rlcard\n",
        "from rlcard import models\n",
        "from rlcard.agents import LeducholdemHumanAgent as HumanAgent\n",
        "from rlcard.utils import print_card\n",
        "\n",
        "# Make environment\n",
        "# Set 'record_action' to True because we need it to print results\n",
        "env = rlcard.make('leduc-holdem', config={'record_action': True})\n",
        "human_agent = HumanAgent(env.action_num)\n",
        "env.set_agents([human_agent, agent])\n",
        "\n",
        "print(\">> Leduc Hold'em pre-trained model\")\n",
        "\n",
        "while True:\n",
        "    print(\">> Start a new game\")\n",
        "\n",
        "    trajectories, payoffs = env.run(is_training=False)\n",
        "    # If the human does not take the final action, we need to\n",
        "    # print other players action\n",
        "    final_state = trajectories[0][-1][-2]\n",
        "    action_record = final_state['action_record']\n",
        "    state = final_state['raw_obs']\n",
        "    _action_list = []\n",
        "    for i in range(1, len(action_record)+1):\n",
        "        if action_record[-i][0] == state['current_player']:\n",
        "            break\n",
        "        _action_list.insert(0, action_record[-i])\n",
        "    for pair in _action_list:\n",
        "        print('>> Player', pair[0], 'chooses', pair[1])\n",
        "\n",
        "    # Let's take a look at what the agent card is\n",
        "    print('===============     CFR Agent    ===============')\n",
        "    print_card(env.get_perfect_information()['hand_cards'][1])\n",
        "\n",
        "    print('===============     Result     ===============')\n",
        "    if payoffs[0] > 0:\n",
        "        print('You win {} chips!'.format(payoffs[0]))\n",
        "    elif payoffs[0] == 0:\n",
        "        print('It is a tie.')\n",
        "    else:\n",
        "        print('You lose {} chips!'.format(-payoffs[0]))\n",
        "    print('')\n",
        "\n",
        "    input(\"Press any key to continue...\")"
      ],
      "execution_count": null,
      "outputs": [
        {
          "output_type": "stream",
          "text": [
            ">> Leduc Hold'em pre-trained model\n",
            ">> Start a new game\n",
            "\n",
            "=============== Community Card ===============\n",
            "┌─────────┐\n",
            "│░░░░░░░░░│\n",
            "│░░░░░░░░░│\n",
            "│░░░░░░░░░│\n",
            "│░░░░░░░░░│\n",
            "│░░░░░░░░░│\n",
            "│░░░░░░░░░│\n",
            "│░░░░░░░░░│\n",
            "└─────────┘\n",
            "===============   Your Hand    ===============\n",
            "┌─────────┐\n",
            "│J        │\n",
            "│         │\n",
            "│         │\n",
            "│    ♠    │\n",
            "│         │\n",
            "│         │\n",
            "│        J│\n",
            "└─────────┘\n",
            "===============     Chips      ===============\n",
            "Yours:   +\n",
            "Agent 1: ++\n",
            "=========== Actions You Can Choose ===========\n",
            "0: call, 1: raise, 2: fold\n",
            "\n",
            ">> You choose action (integer): 0\n",
            ">> Player 1 chooses check\n",
            "\n",
            "=============== Community Card ===============\n",
            "┌─────────┐\n",
            "│Q        │\n",
            "│         │\n",
            "│         │\n",
            "│    ♠    │\n",
            "│         │\n",
            "│         │\n",
            "│        Q│\n",
            "└─────────┘\n",
            "===============   Your Hand    ===============\n",
            "┌─────────┐\n",
            "│J        │\n",
            "│         │\n",
            "│         │\n",
            "│    ♠    │\n",
            "│         │\n",
            "│         │\n",
            "│        J│\n",
            "└─────────┘\n",
            "===============     Chips      ===============\n",
            "Yours:   ++\n",
            "Agent 1: ++\n",
            "=========== Actions You Can Choose ===========\n",
            "0: raise, 1: fold, 2: check\n",
            "\n",
            ">> You choose action (integer): 2\n",
            ">> Player 1 chooses raise\n",
            "\n",
            "=============== Community Card ===============\n",
            "┌─────────┐\n",
            "│Q        │\n",
            "│         │\n",
            "│         │\n",
            "│    ♠    │\n",
            "│         │\n",
            "│         │\n",
            "│        Q│\n",
            "└─────────┘\n",
            "===============   Your Hand    ===============\n",
            "┌─────────┐\n",
            "│J        │\n",
            "│         │\n",
            "│         │\n",
            "│    ♠    │\n",
            "│         │\n",
            "│         │\n",
            "│        J│\n",
            "└─────────┘\n",
            "===============     Chips      ===============\n",
            "Yours:   ++\n",
            "Agent 1: ++++++\n",
            "=========== Actions You Can Choose ===========\n",
            "0: call, 1: raise, 2: fold\n",
            "\n",
            ">> You choose action (integer): 2\n",
            ">> Player 0 chooses fold\n",
            "===============     CFR Agent    ===============\n",
            "┌─────────┐\n",
            "│J        │\n",
            "│         │\n",
            "│         │\n",
            "│    ♥    │\n",
            "│         │\n",
            "│         │\n",
            "│        J│\n",
            "└─────────┘\n",
            "===============     Result     ===============\n",
            "You lose 1.0 chips!\n",
            "\n",
            "Press any key to continue...\n",
            ">> Start a new game\n",
            "\n",
            "=============== Community Card ===============\n",
            "┌─────────┐\n",
            "│░░░░░░░░░│\n",
            "│░░░░░░░░░│\n",
            "│░░░░░░░░░│\n",
            "│░░░░░░░░░│\n",
            "│░░░░░░░░░│\n",
            "│░░░░░░░░░│\n",
            "│░░░░░░░░░│\n",
            "└─────────┘\n",
            "===============   Your Hand    ===============\n",
            "┌─────────┐\n",
            "│J        │\n",
            "│         │\n",
            "│         │\n",
            "│    ♠    │\n",
            "│         │\n",
            "│         │\n",
            "│        J│\n",
            "└─────────┘\n",
            "===============     Chips      ===============\n",
            "Yours:   +\n",
            "Agent 1: ++\n",
            "=========== Actions You Can Choose ===========\n",
            "0: call, 1: raise, 2: fold\n",
            "\n"
          ],
          "name": "stdout"
        },
        {
          "output_type": "error",
          "ename": "KeyboardInterrupt",
          "evalue": "Interrupted by user",
          "traceback": [
            "\u001b[0;31m---------------------------------------------------------------------------\u001b[0m",
            "\u001b[0;31mKeyboardInterrupt\u001b[0m                         Traceback (most recent call last)",
            "\u001b[0;32m<ipython-input-149-50fa841efc56>\u001b[0m in \u001b[0;36m<module>\u001b[0;34m\u001b[0m\n\u001b[1;32m     15\u001b[0m     \u001b[0mprint\u001b[0m\u001b[0;34m(\u001b[0m\u001b[0;34m\">> Start a new game\"\u001b[0m\u001b[0;34m)\u001b[0m\u001b[0;34m\u001b[0m\u001b[0;34m\u001b[0m\u001b[0m\n\u001b[1;32m     16\u001b[0m \u001b[0;34m\u001b[0m\u001b[0m\n\u001b[0;32m---> 17\u001b[0;31m     \u001b[0mtrajectories\u001b[0m\u001b[0;34m,\u001b[0m \u001b[0mpayoffs\u001b[0m \u001b[0;34m=\u001b[0m \u001b[0menv\u001b[0m\u001b[0;34m.\u001b[0m\u001b[0mrun\u001b[0m\u001b[0;34m(\u001b[0m\u001b[0mis_training\u001b[0m\u001b[0;34m=\u001b[0m\u001b[0;32mFalse\u001b[0m\u001b[0;34m)\u001b[0m\u001b[0;34m\u001b[0m\u001b[0;34m\u001b[0m\u001b[0m\n\u001b[0m\u001b[1;32m     18\u001b[0m     \u001b[0;31m# If the human does not take the final action, we need to\u001b[0m\u001b[0;34m\u001b[0m\u001b[0;34m\u001b[0m\u001b[0;34m\u001b[0m\u001b[0m\n\u001b[1;32m     19\u001b[0m     \u001b[0;31m# print other players action\u001b[0m\u001b[0;34m\u001b[0m\u001b[0;34m\u001b[0m\u001b[0;34m\u001b[0m\u001b[0m\n",
            "\u001b[0;32m~/.pyenv/versions/3.7.9/lib/python3.7/site-packages/rlcard/envs/env.py\u001b[0m in \u001b[0;36mrun\u001b[0;34m(self, is_training)\u001b[0m\n\u001b[1;32m    193\u001b[0m             \u001b[0;31m# Agent plays\u001b[0m\u001b[0;34m\u001b[0m\u001b[0;34m\u001b[0m\u001b[0;34m\u001b[0m\u001b[0m\n\u001b[1;32m    194\u001b[0m             \u001b[0;32mif\u001b[0m \u001b[0;32mnot\u001b[0m \u001b[0mis_training\u001b[0m\u001b[0;34m:\u001b[0m\u001b[0;34m\u001b[0m\u001b[0;34m\u001b[0m\u001b[0m\n\u001b[0;32m--> 195\u001b[0;31m                 \u001b[0maction\u001b[0m\u001b[0;34m,\u001b[0m \u001b[0m_\u001b[0m \u001b[0;34m=\u001b[0m \u001b[0mself\u001b[0m\u001b[0;34m.\u001b[0m\u001b[0magents\u001b[0m\u001b[0;34m[\u001b[0m\u001b[0mplayer_id\u001b[0m\u001b[0;34m]\u001b[0m\u001b[0;34m.\u001b[0m\u001b[0meval_step\u001b[0m\u001b[0;34m(\u001b[0m\u001b[0mstate\u001b[0m\u001b[0;34m)\u001b[0m\u001b[0;34m\u001b[0m\u001b[0;34m\u001b[0m\u001b[0m\n\u001b[0m\u001b[1;32m    196\u001b[0m             \u001b[0;32melse\u001b[0m\u001b[0;34m:\u001b[0m\u001b[0;34m\u001b[0m\u001b[0;34m\u001b[0m\u001b[0m\n\u001b[1;32m    197\u001b[0m                 \u001b[0maction\u001b[0m \u001b[0;34m=\u001b[0m \u001b[0mself\u001b[0m\u001b[0;34m.\u001b[0m\u001b[0magents\u001b[0m\u001b[0;34m[\u001b[0m\u001b[0mplayer_id\u001b[0m\u001b[0;34m]\u001b[0m\u001b[0;34m.\u001b[0m\u001b[0mstep\u001b[0m\u001b[0;34m(\u001b[0m\u001b[0mstate\u001b[0m\u001b[0;34m)\u001b[0m\u001b[0;34m\u001b[0m\u001b[0;34m\u001b[0m\u001b[0m\n",
            "\u001b[0;32m~/.pyenv/versions/3.7.9/lib/python3.7/site-packages/rlcard/agents/leduc_holdem_human_agent.py\u001b[0m in \u001b[0;36meval_step\u001b[0;34m(self, state)\u001b[0m\n\u001b[1;32m     42\u001b[0m             \u001b[0mprobs\u001b[0m \u001b[0;34m(\u001b[0m\u001b[0mlist\u001b[0m\u001b[0;34m)\u001b[0m\u001b[0;34m:\u001b[0m \u001b[0mThe\u001b[0m \u001b[0mlist\u001b[0m \u001b[0mof\u001b[0m \u001b[0maction\u001b[0m \u001b[0mprobabilities\u001b[0m\u001b[0;34m\u001b[0m\u001b[0;34m\u001b[0m\u001b[0m\n\u001b[1;32m     43\u001b[0m         '''\n\u001b[0;32m---> 44\u001b[0;31m         \u001b[0;32mreturn\u001b[0m \u001b[0mself\u001b[0m\u001b[0;34m.\u001b[0m\u001b[0mstep\u001b[0m\u001b[0;34m(\u001b[0m\u001b[0mstate\u001b[0m\u001b[0;34m)\u001b[0m\u001b[0;34m,\u001b[0m \u001b[0;34m[\u001b[0m\u001b[0;34m]\u001b[0m\u001b[0;34m\u001b[0m\u001b[0;34m\u001b[0m\u001b[0m\n\u001b[0m\u001b[1;32m     45\u001b[0m \u001b[0;34m\u001b[0m\u001b[0m\n\u001b[1;32m     46\u001b[0m \u001b[0;32mdef\u001b[0m \u001b[0m_print_state\u001b[0m\u001b[0;34m(\u001b[0m\u001b[0mstate\u001b[0m\u001b[0;34m,\u001b[0m \u001b[0maction_record\u001b[0m\u001b[0;34m)\u001b[0m\u001b[0;34m:\u001b[0m\u001b[0;34m\u001b[0m\u001b[0;34m\u001b[0m\u001b[0m\n",
            "\u001b[0;32m~/.pyenv/versions/3.7.9/lib/python3.7/site-packages/rlcard/agents/leduc_holdem_human_agent.py\u001b[0m in \u001b[0;36mstep\u001b[0;34m(state)\u001b[0m\n\u001b[1;32m     26\u001b[0m         '''\n\u001b[1;32m     27\u001b[0m         \u001b[0m_print_state\u001b[0m\u001b[0;34m(\u001b[0m\u001b[0mstate\u001b[0m\u001b[0;34m[\u001b[0m\u001b[0;34m'raw_obs'\u001b[0m\u001b[0;34m]\u001b[0m\u001b[0;34m,\u001b[0m \u001b[0mstate\u001b[0m\u001b[0;34m[\u001b[0m\u001b[0;34m'action_record'\u001b[0m\u001b[0;34m]\u001b[0m\u001b[0;34m)\u001b[0m\u001b[0;34m\u001b[0m\u001b[0;34m\u001b[0m\u001b[0m\n\u001b[0;32m---> 28\u001b[0;31m         \u001b[0maction\u001b[0m \u001b[0;34m=\u001b[0m \u001b[0mint\u001b[0m\u001b[0;34m(\u001b[0m\u001b[0minput\u001b[0m\u001b[0;34m(\u001b[0m\u001b[0;34m'>> You choose action (integer): '\u001b[0m\u001b[0;34m)\u001b[0m\u001b[0;34m)\u001b[0m\u001b[0;34m\u001b[0m\u001b[0;34m\u001b[0m\u001b[0m\n\u001b[0m\u001b[1;32m     29\u001b[0m         \u001b[0;32mwhile\u001b[0m \u001b[0maction\u001b[0m \u001b[0;34m<\u001b[0m \u001b[0;36m0\u001b[0m \u001b[0;32mor\u001b[0m \u001b[0maction\u001b[0m \u001b[0;34m>=\u001b[0m \u001b[0mlen\u001b[0m\u001b[0;34m(\u001b[0m\u001b[0mstate\u001b[0m\u001b[0;34m[\u001b[0m\u001b[0;34m'legal_actions'\u001b[0m\u001b[0;34m]\u001b[0m\u001b[0;34m)\u001b[0m\u001b[0;34m:\u001b[0m\u001b[0;34m\u001b[0m\u001b[0;34m\u001b[0m\u001b[0m\n\u001b[1;32m     30\u001b[0m             \u001b[0mprint\u001b[0m\u001b[0;34m(\u001b[0m\u001b[0;34m'Action illegel...'\u001b[0m\u001b[0;34m)\u001b[0m\u001b[0;34m\u001b[0m\u001b[0;34m\u001b[0m\u001b[0m\n",
            "\u001b[0;32m~/.pyenv/versions/3.7.9/lib/python3.7/site-packages/ipykernel/kernelbase.py\u001b[0m in \u001b[0;36mraw_input\u001b[0;34m(self, prompt)\u001b[0m\n\u001b[1;32m    861\u001b[0m             \u001b[0mself\u001b[0m\u001b[0;34m.\u001b[0m\u001b[0m_parent_ident\u001b[0m\u001b[0;34m,\u001b[0m\u001b[0;34m\u001b[0m\u001b[0;34m\u001b[0m\u001b[0m\n\u001b[1;32m    862\u001b[0m             \u001b[0mself\u001b[0m\u001b[0;34m.\u001b[0m\u001b[0m_parent_header\u001b[0m\u001b[0;34m,\u001b[0m\u001b[0;34m\u001b[0m\u001b[0;34m\u001b[0m\u001b[0m\n\u001b[0;32m--> 863\u001b[0;31m             \u001b[0mpassword\u001b[0m\u001b[0;34m=\u001b[0m\u001b[0;32mFalse\u001b[0m\u001b[0;34m,\u001b[0m\u001b[0;34m\u001b[0m\u001b[0;34m\u001b[0m\u001b[0m\n\u001b[0m\u001b[1;32m    864\u001b[0m         )\n\u001b[1;32m    865\u001b[0m \u001b[0;34m\u001b[0m\u001b[0m\n",
            "\u001b[0;32m~/.pyenv/versions/3.7.9/lib/python3.7/site-packages/ipykernel/kernelbase.py\u001b[0m in \u001b[0;36m_input_request\u001b[0;34m(self, prompt, ident, parent, password)\u001b[0m\n\u001b[1;32m    902\u001b[0m             \u001b[0;32mexcept\u001b[0m \u001b[0mKeyboardInterrupt\u001b[0m\u001b[0;34m:\u001b[0m\u001b[0;34m\u001b[0m\u001b[0;34m\u001b[0m\u001b[0m\n\u001b[1;32m    903\u001b[0m                 \u001b[0;31m# re-raise KeyboardInterrupt, to truncate traceback\u001b[0m\u001b[0;34m\u001b[0m\u001b[0;34m\u001b[0m\u001b[0;34m\u001b[0m\u001b[0m\n\u001b[0;32m--> 904\u001b[0;31m                 \u001b[0;32mraise\u001b[0m \u001b[0mKeyboardInterrupt\u001b[0m\u001b[0;34m(\u001b[0m\u001b[0;34m\"Interrupted by user\"\u001b[0m\u001b[0;34m)\u001b[0m \u001b[0;32mfrom\u001b[0m \u001b[0;32mNone\u001b[0m\u001b[0;34m\u001b[0m\u001b[0;34m\u001b[0m\u001b[0m\n\u001b[0m\u001b[1;32m    905\u001b[0m             \u001b[0;32mexcept\u001b[0m \u001b[0mException\u001b[0m \u001b[0;32mas\u001b[0m \u001b[0me\u001b[0m\u001b[0;34m:\u001b[0m\u001b[0;34m\u001b[0m\u001b[0;34m\u001b[0m\u001b[0m\n\u001b[1;32m    906\u001b[0m                 \u001b[0mself\u001b[0m\u001b[0;34m.\u001b[0m\u001b[0mlog\u001b[0m\u001b[0;34m.\u001b[0m\u001b[0mwarning\u001b[0m\u001b[0;34m(\u001b[0m\u001b[0;34m\"Invalid Message:\"\u001b[0m\u001b[0;34m,\u001b[0m \u001b[0mexc_info\u001b[0m\u001b[0;34m=\u001b[0m\u001b[0;32mTrue\u001b[0m\u001b[0;34m)\u001b[0m\u001b[0;34m\u001b[0m\u001b[0;34m\u001b[0m\u001b[0m\n",
            "\u001b[0;31mKeyboardInterrupt\u001b[0m: Interrupted by user"
          ]
        }
      ]
    },
    {
      "cell_type": "code",
      "metadata": {
        "id": "T_qxmwDxFDQz"
      },
      "source": [
        "eval_env = rlcard.make(\"leduc-holdem\", config={\"seed\": SEED, \"allow_step_back\": True})\n",
        "eval_env.set_agents([models.load(\"leduc-holdem-cfr\").agents[0], models.load(\"leduc-holdem-nfsp\").agents[0]])\n",
        "print(tournament(eval_env, 100000))"
      ],
      "execution_count": null,
      "outputs": []
    },
    {
      "cell_type": "code",
      "metadata": {
        "id": "A8CmAkGKFDQ0"
      },
      "source": [
        "class MCCFRAgent:\n",
        "    def __init__(self):\n",
        "        pass\n",
        "    \n",
        "    def train(self, num_iter):\n",
        "        pass\n",
        "    \n",
        "    def eval_step(self, state):\n",
        "        pass"
      ],
      "execution_count": null,
      "outputs": []
    }
  ]
}