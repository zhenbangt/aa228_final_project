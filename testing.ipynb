{
 "cells": [
  {
   "cell_type": "code",
   "execution_count": 19,
   "metadata": {},
   "outputs": [
    {
     "name": "stdout",
     "output_type": "stream",
     "text": [
      "\n",
      "Episode 0\n",
      "State: {'obs': array([17, 10]), 'legal_actions': [0, 1]}, Action: 0, Reward: -1, Next State: {'obs': array([27, 12]), 'legal_actions': [0, 1]}, Done: True\n",
      "\n",
      "Episode 1\n",
      "State: {'obs': array([16,  5]), 'legal_actions': [0, 1]}, Action: 0, Reward: 0, Next State: {'obs': array([20,  5]), 'legal_actions': [0, 1]}, Done: False\n",
      "State: {'obs': array([20,  5]), 'legal_actions': [0, 1]}, Action: 0, Reward: -1, Next State: {'obs': array([25, 16]), 'legal_actions': [0, 1]}, Done: True\n"
     ]
    }
   ],
   "source": [
    "import rlcard\n",
    "from rlcard.agents import RandomAgent\n",
    "from rlcard.utils import set_global_seed\n",
    "\n",
    "# Make environment\n",
    "env = rlcard.make('blackjack', config={'seed': 0})\n",
    "episode_num = 2\n",
    "\n",
    "import tensorflow.compat.v1 as tf\n",
    "tf.disable_v2_behavior()\n",
    "\n",
    "# Set a global seed\n",
    "# set_global_seed(0)\n",
    "\n",
    "# Set up agents\n",
    "agent_0 = RandomAgent(action_num=env.action_num)\n",
    "env.set_agents([agent_0])\n",
    "\n",
    "for episode in range(episode_num):\n",
    "\n",
    "    # Generate data from the environment\n",
    "    trajectories, _ = env.run(is_training=False)\n",
    "\n",
    "    # Print out the trajectories\n",
    "    print('\\nEpisode {}'.format(episode))\n",
    "    for ts in trajectories[0]:\n",
    "        print('State: {}, Action: {}, Reward: {}, Next State: {}, Done: {}'.format(ts[0], ts[1], ts[2], ts[3], ts[4]))"
   ]
  },
  {
   "cell_type": "code",
   "execution_count": 21,
   "metadata": {},
   "outputs": [],
   "source": [
    "import rlcard\n",
    "from rlcard.agents import RandomAgent\n",
    "\n",
    "env = rlcard.make('leduc-holdem')\n",
    "env.set_agents([RandomAgent(action_num=env.action_num), RandomAgent(action_num=env.action_num)])\n",
    "\n",
    "trajectories, payoffs = env.run(is_training=False)"
   ]
  },
  {
   "cell_type": "code",
   "execution_count": 24,
   "metadata": {},
   "outputs": [
    {
     "data": {
      "text/plain": [
       "[]"
      ]
     },
     "execution_count": 24,
     "metadata": {},
     "output_type": "execute_result"
    }
   ],
   "source": [
    "trajectories[0]"
   ]
  },
  {
   "cell_type": "code",
   "execution_count": 5,
   "metadata": {
    "collapsed": true,
    "jupyter": {
     "outputs_hidden": true
    }
   },
   "outputs": [
    {
     "name": "stdout",
     "output_type": "stream",
     "text": [
      ">> Leduc Hold'em pre-trained model\n",
      ">> Start a new game\n",
      ">> Player 1 chooses raise\n",
      "\n",
      "=============== Community Card ===============\n",
      "┌─────────┐\n",
      "│░░░░░░░░░│\n",
      "│░░░░░░░░░│\n",
      "│░░░░░░░░░│\n",
      "│░░░░░░░░░│\n",
      "│░░░░░░░░░│\n",
      "│░░░░░░░░░│\n",
      "│░░░░░░░░░│\n",
      "└─────────┘\n",
      "===============   Your Hand    ===============\n",
      "┌─────────┐\n",
      "│J        │\n",
      "│         │\n",
      "│         │\n",
      "│    ♥    │\n",
      "│         │\n",
      "│         │\n",
      "│        J│\n",
      "└─────────┘\n",
      "===============     Chips      ===============\n",
      "Yours:   ++\n",
      "Agent 1: ++++\n",
      "=========== Actions You Can Choose ===========\n",
      "0: call, 1: raise, 2: fold\n",
      "\n"
     ]
    },
    {
     "name": "stdin",
     "output_type": "stream",
     "text": [
      ">> You choose action (integer):  0\n"
     ]
    },
    {
     "name": "stdout",
     "output_type": "stream",
     "text": [
      ">> Player 1 chooses raise\n",
      "\n",
      "=============== Community Card ===============\n",
      "┌─────────┐\n",
      "│Q        │\n",
      "│         │\n",
      "│         │\n",
      "│    ♠    │\n",
      "│         │\n",
      "│         │\n",
      "│        Q│\n",
      "└─────────┘\n",
      "===============   Your Hand    ===============\n",
      "┌─────────┐\n",
      "│J        │\n",
      "│         │\n",
      "│         │\n",
      "│    ♥    │\n",
      "│         │\n",
      "│         │\n",
      "│        J│\n",
      "└─────────┘\n",
      "===============     Chips      ===============\n",
      "Yours:   ++++\n",
      "Agent 1: ++++++++\n",
      "=========== Actions You Can Choose ===========\n",
      "0: call, 1: raise, 2: fold\n",
      "\n"
     ]
    },
    {
     "name": "stdin",
     "output_type": "stream",
     "text": [
      ">> You choose action (integer):  2\n"
     ]
    },
    {
     "name": "stdout",
     "output_type": "stream",
     "text": [
      ">> Player 0 chooses fold\n",
      "===============     Agent    ===============\n",
      "┌─────────┐\n",
      "│J        │\n",
      "│         │\n",
      "│         │\n",
      "│    ♠    │\n",
      "│         │\n",
      "│         │\n",
      "│        J│\n",
      "└─────────┘\n",
      "===============     Result     ===============\n",
      "You lose 2.0 chips!\n",
      "\n"
     ]
    },
    {
     "ename": "KeyboardInterrupt",
     "evalue": "Interrupted by user",
     "output_type": "error",
     "traceback": [
      "\u001b[1;31m---------------------------------------------------------------------------\u001b[0m",
      "\u001b[1;31mKeyboardInterrupt\u001b[0m                         Traceback (most recent call last)",
      "\u001b[1;32m<ipython-input-5-2ab9c09ddee1>\u001b[0m in \u001b[0;36m<module>\u001b[1;34m\u001b[0m\n\u001b[0;32m     43\u001b[0m     \u001b[0mprint\u001b[0m\u001b[1;33m(\u001b[0m\u001b[1;34m''\u001b[0m\u001b[1;33m)\u001b[0m\u001b[1;33m\u001b[0m\u001b[1;33m\u001b[0m\u001b[0m\n\u001b[0;32m     44\u001b[0m \u001b[1;33m\u001b[0m\u001b[0m\n\u001b[1;32m---> 45\u001b[1;33m     \u001b[0minput\u001b[0m\u001b[1;33m(\u001b[0m\u001b[1;34m\"Press any key to continue...\"\u001b[0m\u001b[1;33m)\u001b[0m\u001b[1;33m\u001b[0m\u001b[1;33m\u001b[0m\u001b[0m\n\u001b[0m",
      "\u001b[1;32m~\\anaconda3\\envs\\pytorch\\lib\\site-packages\\ipykernel\\kernelbase.py\u001b[0m in \u001b[0;36mraw_input\u001b[1;34m(self, prompt)\u001b[0m\n\u001b[0;32m    858\u001b[0m                 \u001b[1;34m\"raw_input was called, but this frontend does not support input requests.\"\u001b[0m\u001b[1;33m\u001b[0m\u001b[1;33m\u001b[0m\u001b[0m\n\u001b[0;32m    859\u001b[0m             )\n\u001b[1;32m--> 860\u001b[1;33m         return self._input_request(str(prompt),\n\u001b[0m\u001b[0;32m    861\u001b[0m             \u001b[0mself\u001b[0m\u001b[1;33m.\u001b[0m\u001b[0m_parent_ident\u001b[0m\u001b[1;33m,\u001b[0m\u001b[1;33m\u001b[0m\u001b[1;33m\u001b[0m\u001b[0m\n\u001b[0;32m    862\u001b[0m             \u001b[0mself\u001b[0m\u001b[1;33m.\u001b[0m\u001b[0m_parent_header\u001b[0m\u001b[1;33m,\u001b[0m\u001b[1;33m\u001b[0m\u001b[1;33m\u001b[0m\u001b[0m\n",
      "\u001b[1;32m~\\anaconda3\\envs\\pytorch\\lib\\site-packages\\ipykernel\\kernelbase.py\u001b[0m in \u001b[0;36m_input_request\u001b[1;34m(self, prompt, ident, parent, password)\u001b[0m\n\u001b[0;32m    902\u001b[0m             \u001b[1;32mexcept\u001b[0m \u001b[0mKeyboardInterrupt\u001b[0m\u001b[1;33m:\u001b[0m\u001b[1;33m\u001b[0m\u001b[1;33m\u001b[0m\u001b[0m\n\u001b[0;32m    903\u001b[0m                 \u001b[1;31m# re-raise KeyboardInterrupt, to truncate traceback\u001b[0m\u001b[1;33m\u001b[0m\u001b[1;33m\u001b[0m\u001b[1;33m\u001b[0m\u001b[0m\n\u001b[1;32m--> 904\u001b[1;33m                 \u001b[1;32mraise\u001b[0m \u001b[0mKeyboardInterrupt\u001b[0m\u001b[1;33m(\u001b[0m\u001b[1;34m\"Interrupted by user\"\u001b[0m\u001b[1;33m)\u001b[0m \u001b[1;32mfrom\u001b[0m \u001b[1;32mNone\u001b[0m\u001b[1;33m\u001b[0m\u001b[1;33m\u001b[0m\u001b[0m\n\u001b[0m\u001b[0;32m    905\u001b[0m             \u001b[1;32mexcept\u001b[0m \u001b[0mException\u001b[0m \u001b[1;32mas\u001b[0m \u001b[0me\u001b[0m\u001b[1;33m:\u001b[0m\u001b[1;33m\u001b[0m\u001b[1;33m\u001b[0m\u001b[0m\n\u001b[0;32m    906\u001b[0m                 \u001b[0mself\u001b[0m\u001b[1;33m.\u001b[0m\u001b[0mlog\u001b[0m\u001b[1;33m.\u001b[0m\u001b[0mwarning\u001b[0m\u001b[1;33m(\u001b[0m\u001b[1;34m\"Invalid Message:\"\u001b[0m\u001b[1;33m,\u001b[0m \u001b[0mexc_info\u001b[0m\u001b[1;33m=\u001b[0m\u001b[1;32mTrue\u001b[0m\u001b[1;33m)\u001b[0m\u001b[1;33m\u001b[0m\u001b[1;33m\u001b[0m\u001b[0m\n",
      "\u001b[1;31mKeyboardInterrupt\u001b[0m: Interrupted by user"
     ]
    }
   ],
   "source": [
    "import rlcard\n",
    "from rlcard import models\n",
    "from rlcard.agents import LeducholdemHumanAgent as HumanAgent\n",
    "from rlcard.utils import print_card\n",
    "\n",
    "# Make environment\n",
    "# Set 'record_action' to True because we need it to print results\n",
    "env = rlcard.make('leduc-holdem', config={'record_action': True})\n",
    "human_agent = HumanAgent(env.action_num)\n",
    "cfr_agent = models.load('leduc-holdem-rule-v1').agents[0]\n",
    "env.set_agents([human_agent, cfr_agent])\n",
    "\n",
    "print(\">> Leduc Hold'em pre-trained model\")\n",
    "\n",
    "while (True):\n",
    "    print(\">> Start a new game\")\n",
    "\n",
    "    trajectories, payoffs = env.run(is_training=False)\n",
    "    # If the human does not take the final action, we need to\n",
    "    # print other players action\n",
    "    final_state = trajectories[0][-1][-2]\n",
    "    action_record = final_state['action_record']\n",
    "    state = final_state['raw_obs']\n",
    "    _action_list = []\n",
    "    for i in range(1, len(action_record)+1):\n",
    "        if action_record[-i][0] == state['current_player']:\n",
    "            break\n",
    "        _action_list.insert(0, action_record[-i])\n",
    "    for pair in _action_list:\n",
    "        print('>> Player', pair[0], 'chooses', pair[1])\n",
    "\n",
    "    # Let's take a look at what the agent card is\n",
    "    print('===============     Agent    ===============')\n",
    "    print_card(env.get_perfect_information()['hand_cards'][1])\n",
    "\n",
    "    print('===============     Result     ===============')\n",
    "    if payoffs[0] > 0:\n",
    "        print('You win {} chips!'.format(payoffs[0]))\n",
    "    elif payoffs[0] == 0:\n",
    "        print('It is a tie.')\n",
    "    else:\n",
    "        print('You lose {} chips!'.format(-payoffs[0]))\n",
    "    print('')\n",
    "\n",
    "    input(\"Press any key to continue...\")"
   ]
  },
  {
   "cell_type": "code",
   "execution_count": 6,
   "metadata": {},
   "outputs": [
    {
     "data": {
      "text/plain": [
       "True"
      ]
     },
     "execution_count": 6,
     "metadata": {},
     "output_type": "execute_result"
    }
   ],
   "source": [
    "[2] != [1]"
   ]
  }
 ],
 "metadata": {
  "kernelspec": {
   "display_name": "Python 3",
   "language": "python",
   "name": "python3"
  },
  "language_info": {
   "codemirror_mode": {
    "name": "ipython",
    "version": 3
   },
   "file_extension": ".py",
   "mimetype": "text/x-python",
   "name": "python",
   "nbconvert_exporter": "python",
   "pygments_lexer": "ipython3",
   "version": "3.8.5"
  }
 },
 "nbformat": 4,
 "nbformat_minor": 4
}
